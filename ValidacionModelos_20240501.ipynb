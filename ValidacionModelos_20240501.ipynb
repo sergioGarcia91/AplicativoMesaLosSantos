{
  "nbformat": 4,
  "nbformat_minor": 0,
  "metadata": {
    "colab": {
      "provenance": [],
      "gpuType": "L4",
      "toc_visible": true,
      "authorship_tag": "ABX9TyOFmXnvEylgxCvdmLQDqXeN",
      "include_colab_link": true
    },
    "kernelspec": {
      "name": "python3",
      "display_name": "Python 3"
    },
    "language_info": {
      "name": "python"
    },
    "accelerator": "GPU"
  },
  "cells": [
    {
      "cell_type": "markdown",
      "metadata": {
        "id": "view-in-github",
        "colab_type": "text"
      },
      "source": [
        "<a href=\"https://colab.research.google.com/github/sergioGarcia91/AplicativoMesaLosSantos/blob/main/ValidacionModelos_20240501.ipynb\" target=\"_parent\"><img src=\"https://colab.research.google.com/assets/colab-badge.svg\" alt=\"Open In Colab\"/></a>"
      ]
    },
    {
      "cell_type": "markdown",
      "source": [
        "# Inicio"
      ],
      "metadata": {
        "id": "NncppPtw__os"
      }
    },
    {
      "cell_type": "code",
      "execution_count": null,
      "metadata": {
        "id": "fWxRxYsP_48F"
      },
      "outputs": [],
      "source": [
        "# Instalar ultralytics\n",
        "!pip install ultralytics"
      ]
    },
    {
      "cell_type": "code",
      "source": [
        "!pip install tqdm --upgrade"
      ],
      "metadata": {
        "colab": {
          "base_uri": "https://localhost:8080/"
        },
        "id": "X2AYwFM5AF2r",
        "outputId": "d460194a-f18c-41c5-df96-a1bd1b94f87d"
      },
      "execution_count": null,
      "outputs": [
        {
          "output_type": "stream",
          "name": "stdout",
          "text": [
            "Requirement already satisfied: tqdm in /usr/local/lib/python3.10/dist-packages (4.66.4)\n"
          ]
        }
      ]
    },
    {
      "cell_type": "code",
      "source": [
        "# Conectar al Drive para cargar las rocas\n",
        "from google.colab import drive\n",
        "drive.mount('/content/drive')"
      ],
      "metadata": {
        "colab": {
          "base_uri": "https://localhost:8080/"
        },
        "id": "R57U1MbQCia5",
        "outputId": "468ee89c-e622-4ae2-8503-dbf9bcb5a7cf"
      },
      "execution_count": null,
      "outputs": [
        {
          "output_type": "stream",
          "name": "stdout",
          "text": [
            "Mounted at /content/drive\n"
          ]
        }
      ]
    },
    {
      "cell_type": "code",
      "source": [
        "from ultralytics import YOLO\n",
        "import matplotlib.pyplot as plt\n",
        "import pandas as pd\n",
        "import numpy as np"
      ],
      "metadata": {
        "id": "Or2RoZqqAIvj"
      },
      "execution_count": null,
      "outputs": []
    },
    {
      "cell_type": "code",
      "source": [
        "# Load a model\n",
        "pathModelos = '/content/drive/MyDrive/Rocas/'\n",
        "listaModelos = ['rocas_k-n.pt',\n",
        "                'rocas_kk-n.pt',\n",
        "                'rocas_kku-n.pt',\n",
        "                'rocas_kkuu-n.pt',\n",
        "                'rocas_kkuuk-n.pt',\n",
        "                'rocas_kkuuku-n.pt',\n",
        "                'rocas_k-x.pt',\n",
        "                'rocas_ku-x.pt',\n",
        "                'rocas_kuu-x.pt',\n",
        "                'rocas_kuuk-x.pt',\n",
        "                'rocas_kuuku-x.pt']\n",
        "#model = YOLO('rocas_ku.pt')\n",
        "pathYaml_val = '/content/drive/MyDrive/Rocas/Test_UIS_v02/YOLODataset/dataset.yaml'"
      ],
      "metadata": {
        "id": "veng1Fu5AL97"
      },
      "execution_count": null,
      "outputs": []
    },
    {
      "cell_type": "code",
      "source": [
        "for i in listaModelos:\n",
        "  pathModelo = pathModelos + i\n",
        "  model = YOLO(pathModelo)\n",
        "  # Customize validation settings\n",
        "  validation_results = model.val(data=pathYaml_val,\n",
        "                                 imgsz=640)\n",
        "  df = pd.DataFrame(validation_results.confusion_matrix.matrix,\n",
        "                  columns=['RI_true', 'RM_true', 'RS_true', 'BckGr_true'],\n",
        "                  index=['RI_pred', 'RM_pred', 'RS_pred', 'BckGr_pred'])\n",
        "  sumaMuestras = df.sum(axis=0)\n",
        "  df = df / sumaMuestras\n",
        "  df.to_csv(f'{i[:-3]}.csv', sep=';', decimal=',')\n",
        "\n"
      ],
      "metadata": {
        "id": "5kq88F9oAjT7"
      },
      "execution_count": null,
      "outputs": []
    },
    {
      "cell_type": "markdown",
      "source": [
        "# Predecir"
      ],
      "metadata": {
        "id": "r5e_IMH34fI5"
      }
    },
    {
      "cell_type": "code",
      "source": [
        "# Load a model\n",
        "pathModelos = '/content/drive/MyDrive/Rocas/'\n",
        "listaModelos = ['rocas_k-n.pt',\n",
        "                'rocas_kk-n.pt',\n",
        "                'rocas_kku-n.pt',\n",
        "                'rocas_kkuu-n.pt',\n",
        "                'rocas_kkuuk-n.pt',\n",
        "                'rocas_kkuuku-n.pt',\n",
        "                'rocas_k-x.pt',\n",
        "                'rocas_ku-x.pt',\n",
        "                'rocas_kuu-x.pt',\n",
        "                'rocas_kuuk-x.pt',\n",
        "                'rocas_kuuku-x.pt']\n",
        "Test_UIS_v02 = '/content/drive/MyDrive/Rocas/Test_UIS_v02'"
      ],
      "metadata": {
        "id": "SwQRwoNt4hIK"
      },
      "execution_count": null,
      "outputs": []
    },
    {
      "cell_type": "code",
      "source": [
        "for i in listaModelos:\n",
        "  pathModelo = pathModelos + i\n",
        "  model = YOLO(pathModelo)\n",
        "  # Customize validation settings\n",
        "  validation_results = model.predict(source=Test_UIS_v02,\n",
        "                                     conf=0.35,\n",
        "                                     imgsz=640,\n",
        "                                     save=True,\n",
        "                                     stream_buffer=True)"
      ],
      "metadata": {
        "id": "2pMlGN2W4yf2"
      },
      "execution_count": null,
      "outputs": []
    },
    {
      "cell_type": "markdown",
      "source": [
        "# Exportar resultados"
      ],
      "metadata": {
        "id": "sJmKqtrMMi9W"
      }
    },
    {
      "cell_type": "code",
      "source": [
        "import locale\n",
        "locale.getpreferredencoding = lambda: \"UTF-8\""
      ],
      "metadata": {
        "id": "-7uXH1tkMhG3"
      },
      "execution_count": null,
      "outputs": []
    },
    {
      "cell_type": "code",
      "source": [
        "!cp -r /content/runs /content/drive/MyDrive/Rocas/RunsResultados"
      ],
      "metadata": {
        "id": "_wRtk39TMinW"
      },
      "execution_count": null,
      "outputs": []
    },
    {
      "cell_type": "code",
      "source": [
        "# Carpera App\n",
        "!cp -r /content/runs /content/drive/MyDrive/Rocas/"
      ],
      "metadata": {
        "id": "B5ER1ZSg831s"
      },
      "execution_count": null,
      "outputs": []
    },
    {
      "cell_type": "markdown",
      "source": [
        "# Fin"
      ],
      "metadata": {
        "id": "2PcFGNzRABT8"
      }
    },
    {
      "cell_type": "code",
      "source": [],
      "metadata": {
        "id": "z3q0ol1sACdj"
      },
      "execution_count": null,
      "outputs": []
    }
  ]
}